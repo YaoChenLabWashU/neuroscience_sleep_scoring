{
 "cells": [
  {
   "cell_type": "code",
   "execution_count": 1,
   "id": "adequate-retail",
   "metadata": {},
   "outputs": [],
   "source": [
    "import numpy as np\n",
    "\n",
    "np.save('predicted_example.npy', np.array([1,1,1,1,1,1,1,2,2,2,2,2,3,3,1,1,1,1,2,2,2,4,4,4,1,1,1,1,4,4,2,2,2,3,3]))\n",
    "\n",
    "np.save('corrected_example.npy', np.array([1,1,1,1,1,4,4,4,2,2,2,2,3,3,3,3,1,1,2,2,2,2,4,4,1,1,1,4,4,2,2,2,2,2,3]))\n",
    "\n",
    "predicted_bin = np.load('predicted_example.npy')\n",
    "corrected_bin = np.load('corrected_example.npy')\n",
    "        "
   ]
  },
  {
   "cell_type": "code",
   "execution_count": 2,
   "id": "collectible-superintendent",
   "metadata": {},
   "outputs": [
    {
     "name": "stdout",
     "output_type": "stream",
     "text": [
      "0.7428571428571429\n"
     ]
    }
   ],
   "source": [
    "num = predicted_bin.size\n",
    "\n",
    "numC = 0\n",
    "\n",
    "for i in range(num):\n",
    "    if (predicted_bin[i] != corrected_bin[i]):\n",
    "        numC = numC + 1\n",
    "    i = i + 1\n",
    "    \n",
    "percent_corrected = numC / num\n",
    "\n",
    "percent_right = 1-percent_corrected\n",
    "\n",
    "print(percent_right)\n"
   ]
  },
  {
   "cell_type": "code",
   "execution_count": 3,
   "id": "brave-baseball",
   "metadata": {},
   "outputs": [],
   "source": [
    "\n",
    "import matplotlib.pyplot as plt; plt.rcdefaults()\n",
    "import numpy as np\n",
    "import matplotlib.pyplot as plt\n",
    "%matplotlib inline"
   ]
  },
  {
   "cell_type": "code",
   "execution_count": 4,
   "id": "beneficial-crossing",
   "metadata": {},
   "outputs": [
    {
     "data": {
      "image/png": "[encoded data removed]",
      "text/plain": [
       "<Figure size 432x288 with 1 Axes>"
      ]
     },
     "metadata": {
      "needs_background": "light"
     },
     "output_type": "display_data"
    }
   ],
   "source": [
    "x=[\"all state\"]\n",
    "y = percent_right\n",
    "width = 0.3\n",
    "\n",
    "fig, ax = plt.subplots()\n",
    "ax.set_ylabel('% correct')\n",
    "ax.set_title('Accuracy of random forest prediction - all state')\n",
    "ax.bar(x, y, width)\n",
    "ax.set_xlim([-0.5,0.5])\n",
    "ax.set_ylim([0,1])\n",
    "plt.show()"
   ]
  },
  {
   "cell_type": "code",
   "execution_count": null,
   "id": "shared-concern",
   "metadata": {},
   "outputs": [],
   "source": []
  },
  {
   "cell_type": "code",
   "execution_count": null,
   "id": "7312863b",
   "metadata": {},
   "outputs": [],
   "source": []
  }
 ],
 "metadata": {
  "kernelspec": {
   "display_name": "Python 3 (ipykernel)",
   "language": "python",
   "name": "python3"
  },
  "language_info": {
   "codemirror_mode": {
    "name": "ipython",
    "version": 3
   },
   "file_extension": ".py",
   "mimetype": "text/x-python",
   "name": "python",
   "nbconvert_exporter": "python",
   "pygments_lexer": "ipython3",
   "version": "3.9.5"
  }
 },
 "nbformat": 4,
 "nbformat_minor": 5
}
